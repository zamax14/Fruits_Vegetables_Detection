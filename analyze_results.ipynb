{
 "cells": [
  {
   "cell_type": "code",
   "execution_count": 2,
   "metadata": {},
   "outputs": [],
   "source": [
    "fv_list = [\n",
    "\"aguacate\",\n",
    "\"brocoli\",\n",
    "\"calabacita\",\n",
    "\"cebolla\",\n",
    "\"chile\",\n",
    "\"fresa\",\n",
    "\"jitomate\",\n",
    "\"lechuga\",\n",
    "\"limon\",\n",
    "\"mango\",\n",
    "\"manzana\",\n",
    "\"naranja\",\n",
    "\"papa\",\n",
    "\"pepino\",\n",
    "\"pinia\",\n",
    "\"platano\",\n",
    "\"sandia\",\n",
    "\"zanahoria\"\n",
    "]"
   ]
  },
  {
   "cell_type": "code",
   "execution_count": 9,
   "metadata": {},
   "outputs": [
    {
     "name": "stdout",
     "output_type": "stream",
     "text": [
      "114 total labels of aguacate\n",
      "77 total labels of brocoli\n",
      "216 total labels of calabacita\n",
      "190 total labels of cebolla\n",
      "151 total labels of chile\n",
      "303 total labels of fresa\n",
      "150 total labels of jitomate\n",
      "74 total labels of lechuga\n",
      "145 total labels of limon\n",
      "73 total labels of mango\n",
      "76 total labels of manzana\n",
      "84 total labels of naranja\n",
      "293 total labels of papa\n",
      "156 total labels of pepino\n",
      "136 total labels of pinia\n",
      "131 total labels of platano\n",
      "180 total labels of sandia\n",
      "167 total labels of zanahoria\n"
     ]
    }
   ],
   "source": [
    "import os\n",
    "\n",
    "def count_rows_in_txt_files(folder_path):\n",
    "    file_counts = {}\n",
    "    empty_files = []\n",
    "\n",
    "    # Loop through all files in the folder\n",
    "    for filename in os.listdir(folder_path):\n",
    "        # Check if the file is a txt file\n",
    "        if filename.endswith('.txt'):\n",
    "            file_path = os.path.join(folder_path, filename)\n",
    "            \n",
    "            # Open the file and count the lines\n",
    "            with open(file_path, 'r') as file:\n",
    "                row_count = sum(1 for _ in file)\n",
    "                \n",
    "            if row_count == 0:\n",
    "                empty_files.append(filename)\n",
    "            else:\n",
    "                file_counts[filename] = row_count\n",
    "\n",
    "    return file_counts, empty_files\n",
    "\n",
    "# Example usage:\n",
    "folder_path = '/home/zamax/Documents/Repos/Personal/dataset-food/All_Images/'\n",
    "for fv in fv_list:\n",
    "    file_counts, empty_files= count_rows_in_txt_files(folder_path+fv)\n",
    "    total = 0\n",
    "    for file, count in file_counts.items():\n",
    "        #print(f\"{file}: {count} labels\")\n",
    "        total += count\n",
    "    print(f\"{total} total labels of {fv}\")\n",
    "\n",
    "    if empty_files:\n",
    "        print(f\"Empty files in {fv}:\")\n",
    "        for file in empty_files:\n",
    "            print(f\"{file} is empty\")"
   ]
  }
 ],
 "metadata": {
  "kernelspec": {
   "display_name": "food_det",
   "language": "python",
   "name": "python3"
  },
  "language_info": {
   "codemirror_mode": {
    "name": "ipython",
    "version": 3
   },
   "file_extension": ".py",
   "mimetype": "text/x-python",
   "name": "python",
   "nbconvert_exporter": "python",
   "pygments_lexer": "ipython3",
   "version": "3.11.9"
  }
 },
 "nbformat": 4,
 "nbformat_minor": 2
}
